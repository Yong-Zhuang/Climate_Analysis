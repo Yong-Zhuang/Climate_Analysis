{
 "cells": [
  {
   "cell_type": "markdown",
   "metadata": {},
   "source": [
    "## Notes?\n",
    "1. Why is RMSE so high? y is a single float.\n",
    "2. Conv1D kernal only works with 1\n",
    "3. Dense error"
   ]
  },
  {
   "cell_type": "code",
   "execution_count": 1,
   "metadata": {},
   "outputs": [],
   "source": [
    "import pandas as pd\n",
    "import numpy as np\n",
    "from pandas import read_csv\n",
    "from pandas import datetime\n",
    "from pandas import DataFrame\n",
    "#from statsmodels.tsa.arima_model import ARIMA\n",
    "import matplotlib.pylab as plt\n",
    "%matplotlib inline\n",
    "from matplotlib.pylab import rcParams\n",
    "rcParams['figure.figsize'] = 15, 6\n",
    "rcParams['axes.titlesize'] = 'xx-large'\n",
    "rcParams['axes.titleweight'] = 'bold'\n",
    "rcParams[\"legend.loc\"] = 'upper left'\n",
    "look = 15\n",
    "lead = 1 # 3, 5, 7, 10"
   ]
  },
  {
   "cell_type": "code",
   "execution_count": 2,
   "metadata": {
    "scrolled": true
   },
   "outputs": [
    {
     "name": "stdout",
     "output_type": "stream",
     "text": [
      "            Unnamed: 0  Q_-20  Q_-19  Q_-18  Q_-17  Q_-16  Q_-15  Q_-14  \\\n",
      "Date                                                                      \n",
      "1985-05-01         120  739.0  728.0  717.0  754.0  821.0  819.0  824.0   \n",
      "1985-05-02         121  728.0  717.0  754.0  821.0  819.0  824.0  814.0   \n",
      "1985-05-03         122  717.0  754.0  821.0  819.0  824.0  814.0  815.0   \n",
      "1985-05-04         123  754.0  821.0  819.0  824.0  814.0  815.0  803.0   \n",
      "1985-05-05         124  821.0  819.0  824.0  814.0  815.0  803.0  793.0   \n",
      "\n",
      "            Q_-13  Q_-12  ...     Q_-9   Q_-8   Q_-7   Q_-6   Q_-5   Q_-4  \\\n",
      "Date                      ...                                               \n",
      "1985-05-01  814.0  815.0  ...    800.0  805.0  813.0  824.0  829.0  829.0   \n",
      "1985-05-02  815.0  803.0  ...    805.0  813.0  824.0  829.0  829.0  852.0   \n",
      "1985-05-03  803.0  793.0  ...    813.0  824.0  829.0  829.0  852.0  810.0   \n",
      "1985-05-04  793.0  800.0  ...    824.0  829.0  829.0  852.0  810.0  756.0   \n",
      "1985-05-05  800.0  805.0  ...    829.0  829.0  852.0  810.0  756.0  751.0   \n",
      "\n",
      "             Q_-3   Q_-2   Q_-1    Q_0  \n",
      "Date                                    \n",
      "1985-05-01  852.0  810.0  756.0  751.0  \n",
      "1985-05-02  810.0  756.0  751.0  830.0  \n",
      "1985-05-03  756.0  751.0  830.0  903.0  \n",
      "1985-05-04  751.0  830.0  903.0  934.0  \n",
      "1985-05-05  830.0  903.0  934.0  952.0  \n",
      "\n",
      "[5 rows x 22 columns]\n",
      "End Qx.head()\n"
     ]
    },
    {
     "data": {
      "text/html": [
       "<div>\n",
       "<style scoped>\n",
       "    .dataframe tbody tr th:only-of-type {\n",
       "        vertical-align: middle;\n",
       "    }\n",
       "\n",
       "    .dataframe tbody tr th {\n",
       "        vertical-align: top;\n",
       "    }\n",
       "\n",
       "    .dataframe thead th {\n",
       "        text-align: right;\n",
       "    }\n",
       "</style>\n",
       "<table border=\"1\" class=\"dataframe\">\n",
       "  <thead>\n",
       "    <tr style=\"text-align: right;\">\n",
       "      <th></th>\n",
       "      <th>Q_1</th>\n",
       "      <th>Q_2</th>\n",
       "      <th>Q_3</th>\n",
       "      <th>Q_4</th>\n",
       "      <th>Q_5</th>\n",
       "      <th>Q_6</th>\n",
       "      <th>Q_7</th>\n",
       "      <th>Q_8</th>\n",
       "      <th>Q_9</th>\n",
       "      <th>Q_10</th>\n",
       "    </tr>\n",
       "    <tr>\n",
       "      <th>Date</th>\n",
       "      <th></th>\n",
       "      <th></th>\n",
       "      <th></th>\n",
       "      <th></th>\n",
       "      <th></th>\n",
       "      <th></th>\n",
       "      <th></th>\n",
       "      <th></th>\n",
       "      <th></th>\n",
       "      <th></th>\n",
       "    </tr>\n",
       "  </thead>\n",
       "  <tbody>\n",
       "    <tr>\n",
       "      <th>1985-05-01</th>\n",
       "      <td>830.0</td>\n",
       "      <td>903.0</td>\n",
       "      <td>934.0</td>\n",
       "      <td>952.0</td>\n",
       "      <td>958.0</td>\n",
       "      <td>968.0</td>\n",
       "      <td>918.0</td>\n",
       "      <td>783.0</td>\n",
       "      <td>838.0</td>\n",
       "      <td>922.0</td>\n",
       "    </tr>\n",
       "    <tr>\n",
       "      <th>1985-05-02</th>\n",
       "      <td>903.0</td>\n",
       "      <td>934.0</td>\n",
       "      <td>952.0</td>\n",
       "      <td>958.0</td>\n",
       "      <td>968.0</td>\n",
       "      <td>918.0</td>\n",
       "      <td>783.0</td>\n",
       "      <td>838.0</td>\n",
       "      <td>922.0</td>\n",
       "      <td>893.0</td>\n",
       "    </tr>\n",
       "    <tr>\n",
       "      <th>1985-05-03</th>\n",
       "      <td>934.0</td>\n",
       "      <td>952.0</td>\n",
       "      <td>958.0</td>\n",
       "      <td>968.0</td>\n",
       "      <td>918.0</td>\n",
       "      <td>783.0</td>\n",
       "      <td>838.0</td>\n",
       "      <td>922.0</td>\n",
       "      <td>893.0</td>\n",
       "      <td>874.0</td>\n",
       "    </tr>\n",
       "    <tr>\n",
       "      <th>1985-05-04</th>\n",
       "      <td>952.0</td>\n",
       "      <td>958.0</td>\n",
       "      <td>968.0</td>\n",
       "      <td>918.0</td>\n",
       "      <td>783.0</td>\n",
       "      <td>838.0</td>\n",
       "      <td>922.0</td>\n",
       "      <td>893.0</td>\n",
       "      <td>874.0</td>\n",
       "      <td>879.0</td>\n",
       "    </tr>\n",
       "    <tr>\n",
       "      <th>1985-05-05</th>\n",
       "      <td>958.0</td>\n",
       "      <td>968.0</td>\n",
       "      <td>918.0</td>\n",
       "      <td>783.0</td>\n",
       "      <td>838.0</td>\n",
       "      <td>922.0</td>\n",
       "      <td>893.0</td>\n",
       "      <td>874.0</td>\n",
       "      <td>879.0</td>\n",
       "      <td>861.0</td>\n",
       "    </tr>\n",
       "  </tbody>\n",
       "</table>\n",
       "</div>"
      ],
      "text/plain": [
       "              Q_1    Q_2    Q_3    Q_4    Q_5    Q_6    Q_7    Q_8    Q_9  \\\n",
       "Date                                                                        \n",
       "1985-05-01  830.0  903.0  934.0  952.0  958.0  968.0  918.0  783.0  838.0   \n",
       "1985-05-02  903.0  934.0  952.0  958.0  968.0  918.0  783.0  838.0  922.0   \n",
       "1985-05-03  934.0  952.0  958.0  968.0  918.0  783.0  838.0  922.0  893.0   \n",
       "1985-05-04  952.0  958.0  968.0  918.0  783.0  838.0  922.0  893.0  874.0   \n",
       "1985-05-05  958.0  968.0  918.0  783.0  838.0  922.0  893.0  874.0  879.0   \n",
       "\n",
       "             Q_10  \n",
       "Date               \n",
       "1985-05-01  922.0  \n",
       "1985-05-02  893.0  \n",
       "1985-05-03  874.0  \n",
       "1985-05-04  879.0  \n",
       "1985-05-05  861.0  "
      ]
     },
     "execution_count": 2,
     "metadata": {},
     "output_type": "execute_result"
    }
   ],
   "source": [
    "#1934-4-01  2018-07-09\n",
    "Qx = pd.read_csv('../../data/streamflw_precipitation/X_Ganges.csv', index_col=1,header=0,parse_dates=True) #Brahmaputra #Meghna\n",
    "print (Qx.head())\n",
    "print(\"End Qx.head()\")\n",
    "#print (Qx.index[-220:])\n",
    "idx = []\n",
    "for i in np.arange(1-look,1,1):\n",
    "    idx.append('Q_'+str(i))\n",
    "Qx = Qx.loc[:,idx]\n",
    "#print (Qx.head())\n",
    "Qy = pd.read_csv('../../data/streamflw_precipitation/Y_Ganges.csv', index_col=1,header=0,parse_dates=True)\n",
    "#print (Qy.head())\n",
    "idy = []\n",
    "for i in np.arange(lead,lead+10,1):\n",
    "    idy.append('Q_'+str(i))\n",
    "Qy = Qy.loc[:,idy]\n",
    "#print (Qy.head())\n",
    "\n",
    "Qy.head()"
   ]
  },
  {
   "cell_type": "code",
   "execution_count": 3,
   "metadata": {},
   "outputs": [],
   "source": [
    "X = np.swapaxes(Qx.values[np.newaxis], 0, 1)\n",
    "y = np.swapaxes(Qy.iloc[:,0].values[np.newaxis], 0, 1)\n",
    "# lead time 5 7 10"
   ]
  },
  {
   "cell_type": "code",
   "execution_count": 4,
   "metadata": {},
   "outputs": [
    {
     "name": "stdout",
     "output_type": "stream",
     "text": [
      "(4896, 1, 15)\n",
      "(4896, 1)\n"
     ]
    }
   ],
   "source": [
    "print(X.shape)\n",
    "print(y.shape)"
   ]
  },
  {
   "cell_type": "code",
   "execution_count": 5,
   "metadata": {},
   "outputs": [
    {
     "name": "stdout",
     "output_type": "stream",
     "text": [
      "15\n"
     ]
    }
   ],
   "source": [
    "print(len(Qx.columns))"
   ]
  },
  {
   "cell_type": "code",
   "execution_count": 6,
   "metadata": {},
   "outputs": [
    {
     "name": "stderr",
     "output_type": "stream",
     "text": [
      "Using TensorFlow backend.\n"
     ]
    }
   ],
   "source": [
    "from tensorflow.keras.models import Sequential\n",
    "\n",
    "from tensorflow.keras.layers import Dense, SimpleRNN, LSTM, Conv1D,Flatten\n",
    "\n",
    "from tensorflow.keras import initializers, regularizers\n",
    "\n",
    "from keras_pandas.Automater import Automater"
   ]
  },
  {
   "cell_type": "markdown",
   "metadata": {},
   "source": [
    "## Params\n",
    "Default params for networks"
   ]
  },
  {
   "cell_type": "code",
   "execution_count": 7,
   "metadata": {},
   "outputs": [],
   "source": [
    "# Rolling window of X\n",
    "rolling_window = len(Qx.columns)\n",
    "\n",
    "# of epochs\n",
    "numEpoch = 5\n",
    "\n",
    "# Which day are we predicting?\n",
    "#y = Qy['Q_1']\n"
   ]
  },
  {
   "cell_type": "code",
   "execution_count": 8,
   "metadata": {},
   "outputs": [],
   "source": [
    "l2 = regularizers.l2\n",
    "bias = initializers.glorot_uniform(seed = 0)\n",
    "#kernal = "
   ]
  },
  {
   "cell_type": "markdown",
   "metadata": {},
   "source": [
    "## Dense"
   ]
  },
  {
   "cell_type": "code",
   "execution_count": 9,
   "metadata": {},
   "outputs": [
    {
     "name": "stdout",
     "output_type": "stream",
     "text": [
      "_________________________________________________________________\n",
      "Layer (type)                 Output Shape              Param #   \n",
      "=================================================================\n",
      "dense (Dense)                (None, 1, 10)             160       \n",
      "_________________________________________________________________\n",
      "dense_1 (Dense)              (None, 1, 1)              11        \n",
      "=================================================================\n",
      "Total params: 171\n",
      "Trainable params: 171\n",
      "Non-trainable params: 0\n",
      "_________________________________________________________________\n"
     ]
    }
   ],
   "source": [
    "def initDense():\n",
    "    # Initialize network as sequential\n",
    "    model = Sequential()\n",
    "    \n",
    "    # Add reccurant layer\n",
    "    model.add(Dense(10,\n",
    "                        input_shape = (1, rolling_window),))\n",
    "    \n",
    "    # Add dense layer\n",
    "    model.add(Dense(1,))\n",
    "    \n",
    "    #return model\n",
    "    return model\n",
    "    \n",
    "initDense().summary()"
   ]
  },
  {
   "cell_type": "markdown",
   "metadata": {},
   "source": [
    "## RNN"
   ]
  },
  {
   "cell_type": "code",
   "execution_count": 10,
   "metadata": {},
   "outputs": [
    {
     "name": "stdout",
     "output_type": "stream",
     "text": [
      "_________________________________________________________________\n",
      "Layer (type)                 Output Shape              Param #   \n",
      "=================================================================\n",
      "simple_rnn (SimpleRNN)       (None, 10)                260       \n",
      "_________________________________________________________________\n",
      "dense_2 (Dense)              (None, 1)                 11        \n",
      "=================================================================\n",
      "Total params: 271\n",
      "Trainable params: 271\n",
      "Non-trainable params: 0\n",
      "_________________________________________________________________\n"
     ]
    }
   ],
   "source": [
    "def initRNN():\n",
    "    # Initialize network as sequential\n",
    "    model = Sequential()\n",
    "        \n",
    "    # Add reccurant layer\n",
    "    model.add(SimpleRNN(10,\n",
    "                        input_shape = (1, rolling_window),))\n",
    "    \n",
    "    # Syncronize with input shape    \n",
    "    #model.add(Flatten())\n",
    "\n",
    "    \n",
    "    # Add dense layer\n",
    "    model.add(Dense(1))\n",
    "    \n",
    "    #return model\n",
    "    return model\n",
    "    \n",
    "initRNN().summary()"
   ]
  },
  {
   "cell_type": "markdown",
   "metadata": {},
   "source": [
    "## LSTM"
   ]
  },
  {
   "cell_type": "code",
   "execution_count": 11,
   "metadata": {},
   "outputs": [
    {
     "name": "stdout",
     "output_type": "stream",
     "text": [
      "_________________________________________________________________\n",
      "Layer (type)                 Output Shape              Param #   \n",
      "=================================================================\n",
      "lstm (LSTM)                  (None, 10)                1040      \n",
      "_________________________________________________________________\n",
      "dense_3 (Dense)              (None, 1)                 11        \n",
      "=================================================================\n",
      "Total params: 1,051\n",
      "Trainable params: 1,051\n",
      "Non-trainable params: 0\n",
      "_________________________________________________________________\n"
     ]
    }
   ],
   "source": [
    "def initLSTM():\n",
    "    # Initialize network as sequential\n",
    "    model = Sequential()\n",
    "    \n",
    "    # Add reccurant LSTM layer\n",
    "    model.add(LSTM(10,\n",
    "                        input_shape = (1, rolling_window),))\n",
    "    \n",
    "    # Add dense layer\n",
    "    model.add(Dense(1,))\n",
    "    \n",
    "    #return model\n",
    "    return model\n",
    "    \n",
    "initLSTM().summary() "
   ]
  },
  {
   "cell_type": "markdown",
   "metadata": {},
   "source": [
    "# CNN\n",
    "Issues:\n",
    "Input shape dimensionality"
   ]
  },
  {
   "cell_type": "code",
   "execution_count": 12,
   "metadata": {
    "scrolled": true
   },
   "outputs": [
    {
     "name": "stdout",
     "output_type": "stream",
     "text": [
      "_________________________________________________________________\n",
      "Layer (type)                 Output Shape              Param #   \n",
      "=================================================================\n",
      "conv1d (Conv1D)              (None, 2, 10)             310       \n",
      "_________________________________________________________________\n",
      "flatten (Flatten)            (None, 20)                0         \n",
      "_________________________________________________________________\n",
      "dense_4 (Dense)              (None, 1)                 21        \n",
      "=================================================================\n",
      "Total params: 331\n",
      "Trainable params: 331\n",
      "Non-trainable params: 0\n",
      "_________________________________________________________________\n"
     ]
    }
   ],
   "source": [
    "def initCNN():\n",
    "    # Initialize network as sequential\n",
    "    model = Sequential()\n",
    "    \n",
    "    # Add reccurant LSTM layer\n",
    "    model.add(Conv1D(filters = 10, kernel_size = 2, input_shape = (3, rolling_window),))\n",
    "    model.add(Flatten())\n",
    "    \n",
    "    # Add dense layer\n",
    "    model.add(Dense(1,))\n",
    "    \n",
    "    #return model\n",
    "    return model\n",
    "    \n",
    "initCNN().summary() "
   ]
  },
  {
   "cell_type": "markdown",
   "metadata": {},
   "source": [
    "## Arima"
   ]
  },
  {
   "cell_type": "markdown",
   "metadata": {},
   "source": [
    "Find way to make stationary, use dickey fuller test. May have to modify data to make 1d"
   ]
  },
  {
   "cell_type": "code",
   "execution_count": 13,
   "metadata": {},
   "outputs": [],
   "source": [
    "from statsmodels.tsa.arima_model import ARIMA\n",
    "from statsmodels.tsa.stattools import acf, pacf\n",
    "import itertools"
   ]
  },
  {
   "cell_type": "code",
   "execution_count": 14,
   "metadata": {},
   "outputs": [
    {
     "data": {
      "text/plain": [
       "(4896, 1, 15)"
      ]
     },
     "execution_count": 14,
     "metadata": {},
     "output_type": "execute_result"
    }
   ],
   "source": [
    "X.shape"
   ]
  },
  {
   "cell_type": "code",
   "execution_count": 15,
   "metadata": {},
   "outputs": [],
   "source": [
    "lag_acf  = acf( X[:,0,0], nlags=30)\n",
    "lag_pacf = pacf(X[:,0,0], nlags=30, method='ols')"
   ]
  },
  {
   "cell_type": "code",
   "execution_count": 16,
   "metadata": {},
   "outputs": [
    {
     "data": {
      "image/png": "[encoded data removed]",
      "text/plain": [
       "<Figure size 2397.6x504 with 1 Axes>"
      ]
     },
     "metadata": {},
     "output_type": "display_data"
    }
   ],
   "source": [
    "#Plot ACF:\n",
    "plt.figure(figsize=(33.3,7))\n",
    "plt.subplot(121) \n",
    "plt.plot(lag_acf)\n",
    "plt.axhline(y=0,linestyle='--',color='gray')\n",
    "plt.axhline(y=-1.96/np.sqrt(len(X[:,0,0])),linestyle='--',color='gray')\n",
    "plt.axhline(y=1.96/np.sqrt(len(X[:,0,0])),linestyle='--',color='gray')\n",
    "plt.title('Autocorrelation Function')\n",
    "plt.tight_layout()"
   ]
  },
  {
   "cell_type": "code",
   "execution_count": 17,
   "metadata": {},
   "outputs": [
    {
     "data": {
      "image/png": "[encoded data removed]",
      "text/plain": [
       "<Figure size 1749.6x432 with 1 Axes>"
      ]
     },
     "metadata": {},
     "output_type": "display_data"
    }
   ],
   "source": [
    "#Plot PACF:\n",
    "plt.figure(figsize=(24.3,6))\n",
    "plt.subplot(122)\n",
    "plt.plot(lag_pacf)\n",
    "plt.axhline(y=0,linestyle='--',color='gray')\n",
    "plt.axhline(y=-1.96/np.sqrt(len(X[:,0,0])),linestyle='--',color='gray')\n",
    "plt.axhline(y=1.96/np.sqrt(len(X[:,0,0])),linestyle='--',color='gray')\n",
    "plt.title('Partial Autocorrelation Function')\n",
    "plt.tight_layout()"
   ]
  },
  {
   "cell_type": "code",
   "execution_count": 18,
   "metadata": {},
   "outputs": [],
   "source": [
    "xDiff = np.diff(X[:,0,0], n=1)\n",
    "lag_acf_Diff  = acf( xDiff, nlags=30)\n",
    "lag_pacf_Diff = pacf(xDiff, nlags=30, method='ols')"
   ]
  },
  {
   "cell_type": "code",
   "execution_count": 19,
   "metadata": {},
   "outputs": [
    {
     "data": {
      "image/png": "[encoded data removed]",
      "text/plain": [
       "<Figure size 2397.6x504 with 1 Axes>"
      ]
     },
     "metadata": {},
     "output_type": "display_data"
    }
   ],
   "source": [
    "#Plot ACF:\n",
    "plt.figure(figsize=(33.3,7))\n",
    "plt.subplot(121) \n",
    "plt.plot(lag_acf_Diff)\n",
    "plt.axhline(y=0,linestyle='--',color='gray')\n",
    "plt.axhline(y=-1.96/np.sqrt(len(X[:,0,0])),linestyle='--',color='gray')\n",
    "plt.axhline(y=1.96/np.sqrt(len(X[:,0,0])),linestyle='--',color='gray')\n",
    "plt.title('Autocorrelation Function (Differenced)')\n",
    "plt.tight_layout()"
   ]
  },
  {
   "cell_type": "code",
   "execution_count": 20,
   "metadata": {},
   "outputs": [
    {
     "data": {
      "image/png": "[encoded data removed]",
      "text/plain": [
       "<Figure size 1749.6x432 with 1 Axes>"
      ]
     },
     "metadata": {},
     "output_type": "display_data"
    }
   ],
   "source": [
    "#Plot PACF:\n",
    "plt.figure(figsize=(24.3,6))\n",
    "plt.subplot(122)\n",
    "plt.plot(lag_pacf_Diff)\n",
    "plt.axhline(y=0,linestyle='--',color='gray')\n",
    "plt.axhline(y=-1.96/np.sqrt(len(X[:,0,0])),linestyle='--',color='gray')\n",
    "plt.axhline(y=1.96/np.sqrt(len(X[:,0,0])),linestyle='--',color='gray')\n",
    "plt.title('Partial Autocorrelation Function')\n",
    "plt.tight_layout()"
   ]
  },
  {
   "cell_type": "code",
   "execution_count": 21,
   "metadata": {},
   "outputs": [
    {
     "name": "stdout",
     "output_type": "stream",
     "text": [
      "Examples of parameter combinations for Seasonal ARIMA...\n",
      "ARIMA: (2, 0, 1)\n",
      "ARIMA: (2, 0, 1)\n",
      "ARIMA: (2, 0, 2)\n",
      "ARIMA: (2, 0, 2)\n"
     ]
    }
   ],
   "source": [
    "# Define the p, d and q parameters to take any value between 0 and 2\n",
    "p = (2, 4, 9)\n",
    "d = range(0, 2)\n",
    "q = range(0, 3)\n",
    "\n",
    "# Generate all different combinations of p, q and q triplets\n",
    "pdq = list(itertools.product(p, d, q))\n",
    "# pdq tuple array is generated properly, checked up to here so far\n",
    "\n",
    "# Generate all different combinations of pdq\n",
    "\n",
    "\n",
    "print('Examples of parameter combinations for Seasonal ARIMA...')\n",
    "print('ARIMA: {}'.format(pdq[1]))\n",
    "print('ARIMA: {}'.format(pdq[1]))\n",
    "print('ARIMA: {}'.format(pdq[2]))\n",
    "print('ARIMA: {}'.format(pdq[2]))"
   ]
  },
  {
   "cell_type": "code",
   "execution_count": 22,
   "metadata": {},
   "outputs": [
    {
     "data": {
      "text/plain": [
       "\"\\nmin_aic = float('Inf')\\nopt_param = (-1, -1, -1)\\nfor param in pdq:\\n    mod = ARIMA(X[:,0,0], order=param)                              \\n    results = mod.fit()\\n    # save best one either manually or thru extra\\n    if results.aic < min_aic:\\n      min_aic = results.aic\\n      opt_param = param\\n    print('ARIMA{} - current AIC:{}'.format(param, results.aic))\\n\\n    print('this AIC = {}\\tmin_aic = {}'.format(results.aic, min_aic))\\n    print('optimal parameters = {}'.format(opt_param))\\n\\n\""
      ]
     },
     "execution_count": 22,
     "metadata": {},
     "output_type": "execute_result"
    }
   ],
   "source": [
    "\"\"\"\n",
    "min_aic = float('Inf')\n",
    "opt_param = (-1, -1, -1)\n",
    "for param in pdq:\n",
    "    mod = ARIMA(X[:,0,0], order=param)                              \n",
    "    results = mod.fit()\n",
    "    # save best one either manually or thru extra\n",
    "    if results.aic < min_aic:\n",
    "      min_aic = results.aic\n",
    "      opt_param = param\n",
    "    print('ARIMA{} - current AIC:{}'.format(param, results.aic))\n",
    "\n",
    "    print('this AIC = {}\\tmin_aic = {}'.format(results.aic, min_aic))\n",
    "    print('optimal parameters = {}'.format(opt_param))\n",
    "\n",
    "\"\"\""
   ]
  },
  {
   "cell_type": "code",
   "execution_count": 23,
   "metadata": {},
   "outputs": [
    {
     "name": "stdout",
     "output_type": "stream",
     "text": [
      "[814. 815. 803. 793. 800. 805. 813. 824. 829. 829. 852. 810. 756. 751.\n",
      " 830.]\n"
     ]
    }
   ],
   "source": [
    "X.shape\n",
    "print(X[1,0])"
   ]
  },
  {
   "cell_type": "markdown",
   "metadata": {},
   "source": [
    "# Fit Models"
   ]
  },
  {
   "cell_type": "markdown",
   "metadata": {},
   "source": [
    "### RNN"
   ]
  },
  {
   "cell_type": "code",
   "execution_count": 24,
   "metadata": {},
   "outputs": [
    {
     "name": "stdout",
     "output_type": "stream",
     "text": [
      "(None, 1, 15)\n",
      "Train on 4406 samples, validate on 490 samples\n",
      "Epoch 1/5\n",
      " - 9s - loss: 695079498.7497 - val_loss: 459774007.1216\n",
      "Epoch 2/5\n",
      " - 9s - loss: 693663418.3781 - val_loss: 458671234.4963\n",
      "Epoch 3/5\n",
      " - 8s - loss: 692250608.1079 - val_loss: 457569598.8276\n",
      "Epoch 4/5\n",
      " - 9s - loss: 690853536.4022 - val_loss: 456479534.2615\n",
      "Epoch 5/5\n",
      " - 9s - loss: 689446591.8285 - val_loss: 455381815.4565\n"
     ]
    },
    {
     "data": {
      "text/plain": [
       "<tensorflow.python.keras.callbacks.History at 0x7f64f2315b90>"
      ]
     },
     "execution_count": 24,
     "metadata": {},
     "output_type": "execute_result"
    }
   ],
   "source": [
    "RNN = initRNN()\n",
    "RNN.compile(loss='mean_squared_error', optimizer = 'adam')\n",
    "print(RNN.input_shape)\n",
    "RNN.fit(X, y, epochs = numEpoch,  batch_size=1, \n",
    "         verbose=2, validation_split = .1)"
   ]
  },
  {
   "cell_type": "markdown",
   "metadata": {},
   "source": [
    "### LSTM"
   ]
  },
  {
   "cell_type": "code",
   "execution_count": 25,
   "metadata": {},
   "outputs": [
    {
     "name": "stdout",
     "output_type": "stream",
     "text": [
      "(None, 1, 15)\n",
      "Train on 4406 samples, validate on 490 samples\n",
      "Epoch 1/5\n",
      " - 14s - loss: 695575567.0325 - val_loss: 460546038.0216\n",
      "Epoch 2/5\n",
      " - 13s - loss: 695152963.2426 - val_loss: 460218777.0668\n",
      "Epoch 3/5\n",
      " - 13s - loss: 694739885.2159 - val_loss: 459891265.6246\n",
      "Epoch 4/5\n",
      " - 13s - loss: 694324522.9397 - val_loss: 459562696.2276\n",
      "Epoch 5/5\n",
      " - 12s - loss: 693909322.8897 - val_loss: 459235128.8343\n"
     ]
    },
    {
     "data": {
      "text/plain": [
       "<tensorflow.python.keras.callbacks.History at 0x7f64f22ebad0>"
      ]
     },
     "execution_count": 25,
     "metadata": {},
     "output_type": "execute_result"
    }
   ],
   "source": [
    "LSTM = initLSTM()\n",
    "LSTM.compile(loss='mean_squared_error', optimizer = 'adam')\n",
    "print(LSTM.input_shape)\n",
    "LSTM.fit(X, y, epochs = numEpoch,  batch_size=1, \n",
    "         verbose=2, validation_split = .1)"
   ]
  },
  {
   "cell_type": "markdown",
   "metadata": {},
   "source": [
    "### CNN"
   ]
  },
  {
   "cell_type": "code",
   "execution_count": 26,
   "metadata": {},
   "outputs": [],
   "source": [
    "CNN = initCNN()\n",
    "CNN.compile(loss='mean_squared_error', optimizer = 'adam')"
   ]
  },
  {
   "cell_type": "markdown",
   "metadata": {},
   "source": [
    "### Dense"
   ]
  },
  {
   "cell_type": "code",
   "execution_count": 27,
   "metadata": {},
   "outputs": [
    {
     "name": "stdout",
     "output_type": "stream",
     "text": [
      "(None, 1, 15)\n"
     ]
    },
    {
     "ename": "ValueError",
     "evalue": "Error when checking target: expected dense_9 to have 3 dimensions, but got array with shape (4896, 1)",
     "output_type": "error",
     "traceback": [
      "\u001b[0;31m\u001b[0m",
      "\u001b[0;31mValueError\u001b[0mTraceback (most recent call last)",
      "\u001b[0;32m<ipython-input-27-b2249c337d31>\u001b[0m in \u001b[0;36m<module>\u001b[0;34m()\u001b[0m\n\u001b[1;32m      5\u001b[0m \u001b[0;32mprint\u001b[0m\u001b[0;34m(\u001b[0m\u001b[0mDense\u001b[0m\u001b[0;34m.\u001b[0m\u001b[0minput_shape\u001b[0m\u001b[0;34m)\u001b[0m\u001b[0;34m\u001b[0m\u001b[0m\n\u001b[1;32m      6\u001b[0m Dense.fit(X, y, epochs = numEpoch,  batch_size=1, \n\u001b[0;32m----> 7\u001b[0;31m          verbose=2, validation_split = .1)\n\u001b[0m",
      "\u001b[0;32m/usr/local/lib/python2.7/dist-packages/tensorflow/python/keras/engine/training.pyc\u001b[0m in \u001b[0;36mfit\u001b[0;34m(self, x, y, batch_size, epochs, verbose, callbacks, validation_split, validation_data, shuffle, class_weight, sample_weight, initial_epoch, steps_per_epoch, validation_steps, **kwargs)\u001b[0m\n\u001b[1;32m   1507\u001b[0m         \u001b[0msteps_name\u001b[0m\u001b[0;34m=\u001b[0m\u001b[0;34m'steps_per_epoch'\u001b[0m\u001b[0;34m,\u001b[0m\u001b[0;34m\u001b[0m\u001b[0m\n\u001b[1;32m   1508\u001b[0m         \u001b[0msteps\u001b[0m\u001b[0;34m=\u001b[0m\u001b[0msteps_per_epoch\u001b[0m\u001b[0;34m,\u001b[0m\u001b[0;34m\u001b[0m\u001b[0m\n\u001b[0;32m-> 1509\u001b[0;31m         validation_split=validation_split)\n\u001b[0m\u001b[1;32m   1510\u001b[0m \u001b[0;34m\u001b[0m\u001b[0m\n\u001b[1;32m   1511\u001b[0m     \u001b[0;31m# Prepare validation data.\u001b[0m\u001b[0;34m\u001b[0m\u001b[0;34m\u001b[0m\u001b[0m\n",
      "\u001b[0;32m/usr/local/lib/python2.7/dist-packages/tensorflow/python/keras/engine/training.pyc\u001b[0m in \u001b[0;36m_standardize_user_data\u001b[0;34m(self, x, y, sample_weight, class_weight, batch_size, check_steps, steps_name, steps, validation_split)\u001b[0m\n\u001b[1;32m    991\u001b[0m       \u001b[0mx\u001b[0m\u001b[0;34m,\u001b[0m \u001b[0my\u001b[0m \u001b[0;34m=\u001b[0m \u001b[0mnext_element\u001b[0m\u001b[0;34m\u001b[0m\u001b[0m\n\u001b[1;32m    992\u001b[0m     x, y, sample_weights = self._standardize_weights(x, y, sample_weight,\n\u001b[0;32m--> 993\u001b[0;31m                                                      class_weight, batch_size)\n\u001b[0m\u001b[1;32m    994\u001b[0m     \u001b[0;32mreturn\u001b[0m \u001b[0mx\u001b[0m\u001b[0;34m,\u001b[0m \u001b[0my\u001b[0m\u001b[0;34m,\u001b[0m \u001b[0msample_weights\u001b[0m\u001b[0;34m\u001b[0m\u001b[0m\n\u001b[1;32m    995\u001b[0m \u001b[0;34m\u001b[0m\u001b[0m\n",
      "\u001b[0;32m/usr/local/lib/python2.7/dist-packages/tensorflow/python/keras/engine/training.pyc\u001b[0m in \u001b[0;36m_standardize_weights\u001b[0;34m(self, x, y, sample_weight, class_weight, batch_size)\u001b[0m\n\u001b[1;32m   1147\u001b[0m           \u001b[0mfeed_output_shapes\u001b[0m\u001b[0;34m,\u001b[0m\u001b[0;34m\u001b[0m\u001b[0m\n\u001b[1;32m   1148\u001b[0m           \u001b[0mcheck_batch_axis\u001b[0m\u001b[0;34m=\u001b[0m\u001b[0mFalse\u001b[0m\u001b[0;34m,\u001b[0m  \u001b[0;31m# Don't enforce the batch size.\u001b[0m\u001b[0;34m\u001b[0m\u001b[0m\n\u001b[0;32m-> 1149\u001b[0;31m           exception_prefix='target')\n\u001b[0m\u001b[1;32m   1150\u001b[0m \u001b[0;34m\u001b[0m\u001b[0m\n\u001b[1;32m   1151\u001b[0m       \u001b[0;31m# Generate sample-wise weight values given the `sample_weight` and\u001b[0m\u001b[0;34m\u001b[0m\u001b[0;34m\u001b[0m\u001b[0m\n",
      "\u001b[0;32m/usr/local/lib/python2.7/dist-packages/tensorflow/python/keras/engine/training_utils.pyc\u001b[0m in \u001b[0;36mstandardize_input_data\u001b[0;34m(data, names, shapes, check_batch_axis, exception_prefix)\u001b[0m\n\u001b[1;32m    314\u001b[0m                            \u001b[0;34m': expected '\u001b[0m \u001b[0;34m+\u001b[0m \u001b[0mnames\u001b[0m\u001b[0;34m[\u001b[0m\u001b[0mi\u001b[0m\u001b[0;34m]\u001b[0m \u001b[0;34m+\u001b[0m \u001b[0;34m' to have '\u001b[0m \u001b[0;34m+\u001b[0m\u001b[0;34m\u001b[0m\u001b[0m\n\u001b[1;32m    315\u001b[0m                            \u001b[0mstr\u001b[0m\u001b[0;34m(\u001b[0m\u001b[0mlen\u001b[0m\u001b[0;34m(\u001b[0m\u001b[0mshape\u001b[0m\u001b[0;34m)\u001b[0m\u001b[0;34m)\u001b[0m \u001b[0;34m+\u001b[0m \u001b[0;34m' dimensions, but got array '\u001b[0m\u001b[0;34m\u001b[0m\u001b[0m\n\u001b[0;32m--> 316\u001b[0;31m                            'with shape ' + str(data_shape))\n\u001b[0m\u001b[1;32m    317\u001b[0m         \u001b[0;32mif\u001b[0m \u001b[0;32mnot\u001b[0m \u001b[0mcheck_batch_axis\u001b[0m\u001b[0;34m:\u001b[0m\u001b[0;34m\u001b[0m\u001b[0m\n\u001b[1;32m    318\u001b[0m           \u001b[0mdata_shape\u001b[0m \u001b[0;34m=\u001b[0m \u001b[0mdata_shape\u001b[0m\u001b[0;34m[\u001b[0m\u001b[0;36m1\u001b[0m\u001b[0;34m:\u001b[0m\u001b[0;34m]\u001b[0m\u001b[0;34m\u001b[0m\u001b[0m\n",
      "\u001b[0;31mValueError\u001b[0m: Error when checking target: expected dense_9 to have 3 dimensions, but got array with shape (4896, 1)"
     ]
    }
   ],
   "source": [
    "# Need to reshape dimensions for dense, see colab notebook\n",
    "\n",
    "Dense = initDense()\n",
    "Dense.compile(loss='mean_squared_error', optimizer = 'adam')\n",
    "print(Dense.input_shape)\n",
    "Dense.fit(X, y, epochs = numEpoch,  batch_size=1, \n",
    "         verbose=2, validation_split = .1)"
   ]
  },
  {
   "cell_type": "markdown",
   "metadata": {},
   "source": [
    "### ARIMA\n",
    "\n",
    "Doesn't work since data is not stationary. Will work on stationarity with filtering and "
   ]
  },
  {
   "cell_type": "code",
   "execution_count": null,
   "metadata": {},
   "outputs": [],
   "source": [
    "'''\n",
    "# Chosen from previous cell\n",
    "opt_param = (9, 0, 2)\n",
    "\n",
    "results = []\n",
    "for i in range(2): #len(X[:,0,0]))\n",
    "    model = ARIMA(X[i,0],opt_param)\n",
    "    results.append(model.fit())\n",
    "    \n",
    "print(results)\n",
    "'''"
   ]
  }
 ],
 "metadata": {
  "kernelspec": {
   "display_name": "Python 2",
   "language": "python",
   "name": "python2"
  },
  "language_info": {
   "codemirror_mode": {
    "name": "ipython",
    "version": 2
   },
   "file_extension": ".py",
   "mimetype": "text/x-python",
   "name": "python",
   "nbconvert_exporter": "python",
   "pygments_lexer": "ipython2",
   "version": "2.7.12"
  }
 },
 "nbformat": 4,
 "nbformat_minor": 2
}
