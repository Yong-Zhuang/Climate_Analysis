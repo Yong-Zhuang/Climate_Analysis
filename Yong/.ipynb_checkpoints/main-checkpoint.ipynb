{
 "cells": [
  {
   "cell_type": "code",
   "execution_count": 1,
   "metadata": {},
   "outputs": [
    {
     "name": "stdout",
     "output_type": "stream",
     "text": [
      "env: CUDA_DEVICE_ORDER=PCI_BUS_ID\n",
      "env: CUDA_VISIBLE_DEVICES=1,2,3,4,5,6,7\n"
     ]
    },
    {
     "name": "stderr",
     "output_type": "stream",
     "text": [
      "Using TensorFlow backend.\n"
     ]
    }
   ],
   "source": [
    "%env CUDA_DEVICE_ORDER=PCI_BUS_ID\n",
    "%env CUDA_VISIBLE_DEVICES=1,2,3,4,5,6,7\n",
    "no_gpu = 7\n",
    "%matplotlib inline\n",
    "import numpy as np\n",
    "import scipy\n",
    "import scipy.stats\n",
    "import operator\n",
    "import pandas as pd\n",
    "from __future__ import print_function\n",
    "import os\n",
    "import cPickle as pickle\n",
    "import math\n",
    "from time import time\n",
    "from datetime import datetime\n",
    "from keras.optimizers import Adam\n",
    "from keras.callbacks import EarlyStopping, ModelCheckpoint\n",
    "import tensorflow as tf\n",
    "import matplotlib.pyplot as plt\n",
    "np.random.seed(1337)  # for reproducibility\n",
    "\n",
    "nb_epoch = 500  # number of epoch at training stage\n",
    "nb_epoch_cont = 500  # number of epoch at training (cont) stage\n",
    "batch_size = 15  # batch size\n",
    "\n",
    "lr = 0.001  # learning rate\n",
    "len_closeness = 15  # length of closeness dependent sequence\n",
    "nb_residual_unit = 4   # number of residual units\n",
    "year_test = 2006\n",
    "nb_flow = 1  # there are two types of flows: new-flow and end-flow\n",
    "path_result = 'RET'\n",
    "path_model = 'MODEL'\n",
    "\n",
    "if os.path.isdir(path_result) is False:\n",
    "    os.mkdir(path_result)\n",
    "if os.path.isdir(path_model) is False:\n",
    "    os.mkdir(path_model)\n",
    "data_path = '/notebooks/workspace/flood/www.ncei.noaa.gov/data/precipitation-persiann/'"
   ]
  },
  {
   "cell_type": "markdown",
   "metadata": {},
   "source": [
    "### Load Data"
   ]
  },
  {
   "cell_type": "code",
   "execution_count": 2,
   "metadata": {},
   "outputs": [],
   "source": [
    "from persiann import sample_construction\n",
    "if os.path.isfile('X.npy') is False: \n",
    "    print ('start creating samples.')\n",
    "    sc = sample_construction(data_path=data_path,end_year=2016)\n",
    "    sc.create_samples(target_river = 'G')"
   ]
  },
  {
   "cell_type": "code",
   "execution_count": 3,
   "metadata": {},
   "outputs": [
    {
     "name": "stdout",
     "output_type": "stream",
     "text": [
      "E:  (4148, 5) X:  (4148, 15, 92, 188) Y:  (4148, 1)\n"
     ]
    }
   ],
   "source": [
    "E = np.load('E.npy') #external input\n",
    "X = np.load('X.npy')\n",
    "Y = pd.read_pickle('Y_df.pkl')\n",
    "map_height, map_width = X.shape[2], X.shape[3]\n",
    "print('E: ',E.shape,'X: ',X.shape,'Y: ',Y.shape)"
   ]
  },
  {
   "cell_type": "code",
   "execution_count": 4,
   "metadata": {},
   "outputs": [
    {
     "name": "stdout",
     "output_type": "stream",
     "text": [
      "168.5450439453125\n"
     ]
    }
   ],
   "source": [
    "print(np.max(X[:10]))"
   ]
  },
  {
   "cell_type": "code",
   "execution_count": 5,
   "metadata": {},
   "outputs": [
    {
     "name": "stdout",
     "output_type": "stream",
     "text": [
      "(568731529,)\n"
     ]
    }
   ],
   "source": [
    "print (X[X>0].shape)"
   ]
  },
  {
   "cell_type": "code",
   "execution_count": 7,
   "metadata": {},
   "outputs": [
    {
     "name": "stdout",
     "output_type": "stream",
     "text": [
      "(507425591,)\n"
     ]
    }
   ],
   "source": [
    "print (X[X==0].shape)"
   ]
  },
  {
   "cell_type": "code",
   "execution_count": 13,
   "metadata": {},
   "outputs": [],
   "source": [
    "def distribution_plot(y,fit):\n",
    "    overall_min = np.min(y)\n",
    "    overall_max = np.max(y)\n",
    "    #print (overall_max,overall_min)\n",
    "    bins = np.linspace(overall_min, overall_max, 50)\n",
    "    #print(bins)   \n",
    "    fig = plt.figure()\n",
    "    fig.set_size_inches(15, 10)\n",
    "    print (y.shape)  \n",
    "    n, bins, patches = plt.hist(y, bins, alpha=0.5, density=fit, facecolor='g')#log=True\n",
    "    #print (n)\n",
    "    #print (bins)\n",
    "    #print(patches)\n",
    "#(x, 50, density=True, facecolor='g', alpha=0.75)\n",
    "    #print(bins)\n",
    "    #dist_names = ['rayleigh', 'norm', 'pareto']\n",
    "    #dist_names = ['alpha', 'anglit', 'arcsine', 'beta', 'betaprime', 'bradford', 'burr', 'cauchy', 'chi', 'chi2', 'cosine', 'dgamma', 'dweibull', 'erlang', 'expon', 'exponweib', 'exponpow', 'f', 'fatiguelife', 'fisk', 'foldcauchy', 'foldnorm', 'frechet_r', 'frechet_l', 'genlogistic', 'genpareto', 'genexpon', 'genextreme', 'gausshyper', 'gamma', 'gengamma', 'genhalflogistic', 'gilbrat', 'gompertz', 'gumbel_r', 'gumbel_l', 'halfcauchy', 'halflogistic', 'halfnorm', 'hypsecant', 'invgamma', 'invgauss', 'invweibull', 'johnsonsb', 'johnsonsu', 'ksone', 'kstwobign', 'laplace', 'logistic', 'loggamma', 'loglaplace', 'lognorm', 'lomax', 'maxwell', 'mielke', 'nakagami', 'ncx2', 'ncf', 'nct', 'norm', 'pareto', 'pearson3', 'powerlaw', 'powerlognorm', 'powernorm', 'rdist', 'reciprocal', 'rayleigh', 'rice', 'recipinvgauss', 'semicircular', 't', 'triang', 'truncexpon', 'truncnorm', 'tukeylambda', 'uniform', 'vonmises', 'wald', 'weibull_min', 'weibull_max', 'wrapcauchy']\n",
    "    #dist_names = ['invgauss', 'foldcauchy', 'lomax', 'halfcauchy', 'pareto', 'alpha', 'genexpon', 'expon', 'gompertz', 'halflogistic', 'genhalflogistic', 'halfnorm', 'foldnorm', 'gilbrat', 'uniform', 'ksone', 'truncnorm', 'wald', 'bradford', 'triang', 'truncexpon', 'semicircular', 'kstwobign', 'rice', 'rayleigh', 'frechet_l', 'wrapcauchy', 'gumbel_r', 'genlogistic', 'weibull_max', 'maxwell', 'anglit', 'norm', 'loggamma', 'logistic', 'hypsecant', 'cauchy', 'gumbel_l', 'powernorm', 'laplace', 'reciprocal', 'cosine']\n",
    "    dist_names = ['pareto','norm','alpha','logistic', 'hypsecant', 'cauchy', 'gumbel_l', 'powernorm', 'laplace', 'reciprocal']#'reciprocal'\n",
    "    #dist_names = ['gumbel_l','logistic','norm','alpha','cauchy', 'laplace']# \n",
    "    #dist_names = ['pareto','norm','genpareto', 'halfnorm', 'expon' ]\n",
    "    #dist_names = ['lognorm']\n",
    "    #dist_names = ['arcsine', 'truncexpon', 'semicircular', 'anglit', 'triang', 'genhalflogistic', 'lomax', 'expon', 'betaprime', 'exponpow', 'loglaplace', 'fisk', 'exponweib', 'invweibull', 'gumbel_r', 'genlogistic',  'genpareto',  'foldnorm', 'kstwobign','halfcauchy',  'rayleigh',  'rice', 'maxwell',  'cosine', 'mielke',  'genexpon',  'dgamma']\n",
    "    #dist_names = ['truncexpon', 'semicircular', 'anglit', 'triang', 'genhalflogistic', 'loglaplace', 'betaprime','fisk', 'exponweib', 'invweibull', 'gumbel_r', 'genlogistic',  'genpareto',  'foldnorm', 'kstwobign','halfcauchy',  'rayleigh',  'rice', 'maxwell',  'cosine', 'mielke',  'genexpon',  'dgamma']\n",
    "    \n",
    "    dic = {}\n",
    "    print('here111111')\n",
    "    if fit:\n",
    "        for dist_name in dist_names:\n",
    "            dist = getattr(scipy.stats, dist_name)\n",
    "            param = dist.fit(y)\n",
    "            print('here2222222')\n",
    "            pdf_fitted = dist.pdf(bins, *param[:-2], loc=param[-2], scale=param[-1])       \n",
    "            NLL = -np.sum(np.log(pdf_fitted))\n",
    "            print (\"Dist: {0}, NLL: {1}\".format(dist_name, NLL))\n",
    "            dic[dist_name]=NLL\n",
    "            plt.plot(bins, pdf_fitted, label=dist_name+', NLL: '+str(NLL))\n",
    "        sorted_dic = sorted(dic.items(), key=operator.itemgetter(1))\n",
    "        print (sorted_dic)\n",
    "    #plt.xlim(xmin,xmax)\n",
    "    #plt.ylim(ymin,ymax)\n",
    "    plt.legend(loc='upper right')\n",
    "    plt.xlabel('Daily Stream Flow')\n",
    "    plt.ylabel('Number of Days')\n",
    "    plt.show()\n",
    "#plt.xticks(bins, [\"2^%s\" % i for i in bins])"
   ]
  },
  {
   "cell_type": "code",
   "execution_count": 19,
   "metadata": {},
   "outputs": [
    {
     "name": "stdout",
     "output_type": "stream",
     "text": [
      "(4148,)\n",
      "here111111\n"
     ]
    },
    {
     "data": {
      "image/png": "[encoded data removed]",
      "text/plain": [
       "<Figure size 1080x720 with 1 Axes>"
      ]
     },
     "metadata": {},
     "output_type": "display_data"
    },
    {
     "name": "stdout",
     "output_type": "stream",
     "text": [
      "min: -0.6931471805599453\n",
      "max: 2.2223159892012707\n",
      "mean: -0.6406405252644741\n",
      "median: -0.6931471805599453\n",
      "standard deviation: 0.25961443507311804\n",
      "75% percentile: -0.6931471805599453\n",
      ">75% percentile ratio= 1.0\n"
     ]
    }
   ],
   "source": [
    "data = X[:,0,10,10]#np.array(np.log(1+Y))#np.log(0.5+y)\n",
    "data = np.array(np.log(0.5+data))\n",
    "sorted_dic = distribution_plot(data,False)\n",
    "print ('min: '+str(np.min(data)))\n",
    "print ('max: '+str(np.max(data)))\n",
    "print ('mean: '+str(np.mean(data)))\n",
    "print ('median: '+str(np.median(data)))\n",
    "print ('standard deviation: '+str(np.std(data)))\n",
    "print ('75% percentile: '+str(np.percentile(data,75)))\n",
    "ratio = (np.max(data)-np.percentile(data,75))/(np.max(data) - np.min(data))\n",
    "print ('>75% percentile ratio= '+str(ratio))"
   ]
  },
  {
   "cell_type": "code",
   "execution_count": null,
   "metadata": {},
   "outputs": [],
   "source": [
    "#ymax,ymin = 450,0\n",
    "#xmax,xmin = 2.2,0\n",
    "#xmax,xmin = 2200,0\n",
    "#distribution_plot(y,omax,omin)\n",
    "data = Y#np.array(np.log(1+Y))#np.log(0.5+y)\n",
    "sorted_dic = distribution_plot(data)\n",
    "print ('min: '+str(np.min(data)))\n",
    "print ('max: '+str(np.max(data)))\n",
    "print ('mean: '+str(np.mean(data)))\n",
    "print ('median: '+str(np.median(data)))\n",
    "print ('standard deviation: '+str(np.std(data)))\n",
    "print ('75% percentile: '+str(np.percentile(data,75)))\n",
    "ratio = (np.max(data)-np.percentile(data,75))/(np.max(data) - np.min(data))\n",
    "print ('>75% percentile ratio= '+str(ratio))\n",
    "#data =np.log(1+y)/np.log(1.6) \n",
    "#distribution_plot(data,omax,omin)\n",
    "#data =np.log(1+y)/np.log(1.5) \n",
    "#distribution_plot(data,omax,omin)\n",
    "#data =np.log(1+y)/np.log(1.1) \n",
    "#distribution_plot(data,omax,omin)"
   ]
  },
  {
   "cell_type": "code",
   "execution_count": null,
   "metadata": {},
   "outputs": [],
   "source": [
    "Y = np.log(1+Y)\n",
    "train_idx  = Y.index.year < year_test\n",
    "test_idx  = Y.index.year >= year_test\n",
    "#X=np.reshape(X,(:, np.newaxis,...))\n",
    "#X = X[:, np.newaxis,...]\n",
    "E_train, X_train, Y_train, E_test, X_test, Y_test = E[train_idx], X[train_idx],Y.iloc[train_idx],E[test_idx],X[test_idx],Y.iloc[test_idx]\n",
    "print ('E_train shape', E_train.shape,'X_train shape', X_train.shape, 'Y_train shape', Y_train.shape,'E_test shape', E_test.shape,'X_test shape', X_test.shape, 'Y_test shape', Y_test.shape)"
   ]
  },
  {
   "cell_type": "code",
   "execution_count": null,
   "metadata": {},
   "outputs": [],
   "source": [
    "print (Y[:50])"
   ]
  },
  {
   "cell_type": "markdown",
   "metadata": {},
   "source": [
    "### Build Network"
   ]
  },
  {
   "cell_type": "code",
   "execution_count": null,
   "metadata": {},
   "outputs": [],
   "source": [
    "from keras import backend as K\n",
    "#Root Mean Squared Error\n",
    "def rmse(y_true, y_pred):\n",
    "    return K.sqrt(K.mean(K.square(y_pred - y_true), axis=-1))\n",
    "#Root Mean Squared Logarithmic Error\n",
    "def rmsle(y_true, y_pred):\n",
    "    return K.sqrt(K.mean(K.square(tf.log1p(y_pred) - tf.log1p(y_true))))"
   ]
  },
  {
   "cell_type": "code",
   "execution_count": null,
   "metadata": {},
   "outputs": [],
   "source": [
    "import residualnet as rn\n",
    "from keras.utils import multi_gpu_model\n",
    "\n",
    "def build_model(external_dim):\n",
    "    c_conf = (len_closeness, nb_flow, map_height,\n",
    "              map_width) if len_closeness > 0 else None\n",
    "\n",
    "    model = rn.stresnet(c_conf=c_conf, p_conf=None, t_conf=None,\n",
    "                     external_dim=external_dim, nb_residual_unit=nb_residual_unit, is_3D=False, batchNormalization=False) \n",
    "    \n",
    "    parallel_model = multi_gpu_model(model, gpus=no_gpu)\n",
    "    \n",
    "    adam = Adam(lr=lr)\n",
    "    parallel_model.compile(loss='mse', optimizer=adam, metrics=[rmse])\n",
    "    parallel_model.summary()\n",
    "    # from keras.utils.visualize_util import plot\n",
    "    # plot(model, to_file='model.png', show_shapes=True)\n",
    "    return parallel_model"
   ]
  },
  {
   "cell_type": "code",
   "execution_count": null,
   "metadata": {
    "scrolled": true
   },
   "outputs": [],
   "source": [
    "external_dim = E_train.shape[1]\n",
    "model = build_model(external_dim)\n",
    "hyperparams_name = 'c{}.resunit{}.lr{}'.format(\n",
    "    len_closeness, nb_residual_unit, lr)\n",
    "fname_param = os.path.join('MODEL', '{}.best.h5'.format(hyperparams_name))\n",
    "\n",
    "early_stopping = EarlyStopping(monitor='val_loss', patience=20, mode='min')\n",
    "model_checkpoint = ModelCheckpoint(\n",
    "    fname_param, monitor='val_loss', verbose=0, save_best_only=True, mode='min')"
   ]
  },
  {
   "cell_type": "markdown",
   "metadata": {},
   "source": [
    "### Training with early stopping"
   ]
  },
  {
   "cell_type": "code",
   "execution_count": null,
   "metadata": {},
   "outputs": [],
   "source": [
    "print(\"training model...\")\n",
    "X_tr=[X_train,E_train]\n",
    "X_te=[X_test,E_test]\n",
    "history = model.fit(X_tr, Y_train,\n",
    "                    epochs=nb_epoch,\n",
    "                    batch_size=batch_size,\n",
    "                    validation_split=0.1,\n",
    "                    callbacks=[early_stopping, model_checkpoint],\n",
    "                    verbose=1)\n",
    "model.save_weights(os.path.join(\n",
    "    path_model, '{}.h5'.format(hyperparams_name)), overwrite=True)\n",
    "pickle.dump((history.history), open(os.path.join(\n",
    "    path_result, '{}.history.pkl'.format(hyperparams_name)), 'wb'))"
   ]
  },
  {
   "cell_type": "code",
   "execution_count": null,
   "metadata": {},
   "outputs": [],
   "source": [
    "# summarize history for root mean squared error\n",
    "f, (ax1,ax2) = plt.subplots(2, 1, sharex=True)\n",
    "f.set_size_inches(16, 8)\n",
    "f.subplots_adjust(top=1.85)\n",
    "ax1.tick_params(axis='both', which='major', labelsize=15)\n",
    "ax1.set_title('Root Mean Squared Error',size=25)\n",
    "ax1.set_ylabel('root mean squared error',size=20)\n",
    "#ax1.set_xlabel('epoch',size=20)\n",
    "rmse_train=ax1.plot(history.history['rmse'])\n",
    "rmse_val=ax1.plot(history.history['val_rmse'])\n",
    "ax1.legend( ( rmse_train[0], rmse_val[0]), ('Training','Validation'),fontsize=15)\n",
    "\n",
    "ax2.tick_params(axis='both', which='major', labelsize=15)\n",
    "ax2.set_title('Loss',size=25)\n",
    "ax2.set_ylabel('Loss',size=20)\n",
    "ax2.set_xlabel('Epoch',size=20)\n",
    "loss_train=ax2.plot(history.history['loss'])\n",
    "loss_val=ax2.plot(history.history['val_loss'])\n",
    "\n",
    "ax2.legend( ( loss_train[0], loss_val[0]), ('Training','Validation'),fontsize=15)\n",
    "plt.show()"
   ]
  },
  {
   "cell_type": "markdown",
   "metadata": {},
   "source": [
    "### Evaluation using the model given by early stopping"
   ]
  },
  {
   "cell_type": "code",
   "execution_count": null,
   "metadata": {},
   "outputs": [],
   "source": [
    "print('=' * 50)\n",
    "print('evaluating using the model that has the best loss on the valid set')\n",
    "model.load_weights(fname_param)\n",
    "score = model.evaluate(X_tr, Y_train, batch_size=batch_size, verbose=0)\n",
    "print('Train score: %.6f rmse (norm): %.6f' %\n",
    "      (score[0], score[1]))\n",
    "\n",
    "score = model.evaluate(\n",
    "    X_te, Y_test, batch_size=batch_size, verbose=0)\n",
    "print('Test score: %.6f rmse (norm): %.6f' %\n",
    "      (score[0], score[1]))\n"
   ]
  },
  {
   "cell_type": "markdown",
   "metadata": {},
   "source": [
    "### Continue training without early stopping"
   ]
  },
  {
   "cell_type": "code",
   "execution_count": null,
   "metadata": {},
   "outputs": [],
   "source": [
    "print('=' * 50)\n",
    "print(\"training model (cont)...\")\n",
    "fname_param = os.path.join(\n",
    "    path_model, '{}.cont.best.h5'.format(hyperparams_name))\n",
    "model_checkpoint = ModelCheckpoint(\n",
    "    fname_param, monitor='mse', verbose=0, save_best_only=True, mode='min')\n",
    "history = model.fit(X_tr, Y_train, epochs=nb_epoch_cont, verbose=1, batch_size=batch_size, callbacks=[\n",
    "                    model_checkpoint], validation_data=(X_te, Y_test))\n",
    "pickle.dump((history.history), open(os.path.join(\n",
    "    path_result, '{}.cont.history.pkl'.format(hyperparams_name)), 'wb'))\n",
    "model.save_weights(os.path.join(\n",
    "    path_model, '{}_cont.h5'.format(hyperparams_name)), overwrite=True)\n",
    "\n",
    "print('=' * 10)\n",
    "print('evaluating using the final model')\n",
    "score = model.evaluate(X_tr, Y_train, batch_size=batch_size, verbose=0)\n",
    "print('Train score: %.6f rmse (norm): %.6f' %\n",
    "      (score[0], score[1]))\n",
    "score = model.evaluate(\n",
    "    X_te, Y_test, batch_size=batch_size, verbose=0)\n",
    "print('Test score: %.6f rmse (norm): %.6f' %\n",
    "      (score[0], score[1]))\n"
   ]
  },
  {
   "cell_type": "code",
   "execution_count": null,
   "metadata": {},
   "outputs": [],
   "source": [
    "# summarize history for root mean squared error\n",
    "f, (ax1,ax2) = plt.subplots(2, 1, sharex=True)\n",
    "f.set_size_inches(16, 8)\n",
    "f.subplots_adjust(top=1.85)\n",
    "ax1.tick_params(axis='both', which='major', labelsize=15)\n",
    "ax1.set_title('Root Mean Squared Error',size=25)\n",
    "ax1.set_ylabel('root mean squared error',size=20)\n",
    "#ax1.set_xlabel('epoch',size=20)\n",
    "rmse_train=ax1.plot(history.history['rmse'])\n",
    "rmse_val=ax1.plot(history.history['val_rmse'])\n",
    "ax1.legend( ( rmse_train[0], rmse_val[0]), ('Training','Test'),fontsize=15)\n",
    "\n",
    "ax2.tick_params(axis='both', which='major', labelsize=15)\n",
    "ax2.set_title('Loss',size=25)\n",
    "ax2.set_ylabel('Loss',size=20)\n",
    "ax2.set_xlabel('Epoch',size=20)\n",
    "loss_train=ax2.plot(history.history['loss'])\n",
    "loss_val=ax2.plot(history.history['val_loss'])\n",
    "\n",
    "ax2.legend( ( loss_train[0], loss_val[0]), ('Training','Test'),fontsize=15)\n",
    "plt.show()"
   ]
  }
 ],
 "metadata": {
  "kernelspec": {
   "display_name": "Python 2",
   "language": "python",
   "name": "python2"
  },
  "language_info": {
   "codemirror_mode": {
    "name": "ipython",
    "version": 2
   },
   "file_extension": ".py",
   "mimetype": "text/x-python",
   "name": "python",
   "nbconvert_exporter": "python",
   "pygments_lexer": "ipython2",
   "version": "2.7.12"
  }
 },
 "nbformat": 4,
 "nbformat_minor": 2
}
