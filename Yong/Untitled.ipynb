{
 "cells": [
  {
   "cell_type": "code",
   "execution_count": null,
   "metadata": {},
   "outputs": [],
   "source": [
    "%matplotlib inline\n",
    "import numpy as np\n",
    "import scipy\n",
    "import scipy.stats\n",
    "import operator\n",
    "import pandas as pd\n",
    "from __future__ import print_function\n",
    "import os\n",
    "import cPickle as pickle\n",
    "import math\n",
    "from time import time\n",
    "from datetime import datetime\n",
    "import matplotlib.pyplot as plt\n",
    "np.random.seed(1337)  # for reproducibility\n",
    "\n",
    "nb_epoch = 500  # number of epoch at training stage\n",
    "nb_epoch_cont = 500  # number of epoch at training (cont) stage\n",
    "batch_size = 15  # batch size\n",
    "\n",
    "lr = 0.001  # learning rate\n",
    "len_closeness = 15  # length of closeness dependent sequence\n",
    "nb_residual_unit = 4   # number of residual units\n",
    "year_test = 2006\n",
    "nb_flow = 1  # there are two types of flows: new-flow and end-flow\n",
    "path_result = 'RET'\n",
    "path_model = 'MODEL'\n",
    "\n",
    "data_path = '/notebooks/workspace/flood/www.ncei.noaa.gov/data/precipitation-persiann/'"
   ]
  },
  {
   "cell_type": "code",
   "execution_count": null,
   "metadata": {},
   "outputs": [],
   "source": [
    "from persiann import sample_construction\n",
    "if os.path.isfile('X.npy') is False: \n",
    "    print ('start creating samples.')\n",
    "    sc = sample_construction(data_path=data_path,end_year=2016)\n",
    "    sc.create_samples(target_river = 'G')"
   ]
  },
  {
   "cell_type": "code",
   "execution_count": null,
   "metadata": {},
   "outputs": [],
   "source": [
    "E = np.load('E.npy') #external input\n",
    "X = np.load('X.npy')\n",
    "Y = pd.read_pickle('Y_df.pkl')\n",
    "map_height, map_width = X.shape[2], X.shape[3]\n",
    "print('E: ',E.shape,'X: ',X.shape,'Y: ',Y.shape)"
   ]
  },
  {
   "cell_type": "code",
   "execution_count": null,
   "metadata": {},
   "outputs": [],
   "source": [
    "def distribution_plot(y):\n",
    "    overall_min = np.min(y)\n",
    "    overall_max = np.max(y)\n",
    "    #print (overall_max,overall_min)\n",
    "    bins = np.linspace(overall_min, overall_max, 50)\n",
    "    #print(bins)   \n",
    "    fig = plt.figure()\n",
    "    fig.set_size_inches(15, 10)\n",
    "    print (y.shape)\n",
    "    n, bins, patches = plt.hist(y, bins, alpha=0.5, density=True, facecolor='g')#log=True\n",
    "    #print (n)\n",
    "    #print (bins)\n",
    "    #print(patches)\n",
    "#(x, 50, density=True, facecolor='g', alpha=0.75)\n",
    "    #print(bins)\n",
    "    #dist_names = ['rayleigh', 'norm', 'pareto']\n",
    "    #dist_names = ['alpha', 'anglit', 'arcsine', 'beta', 'betaprime', 'bradford', 'burr', 'cauchy', 'chi', 'chi2', 'cosine', 'dgamma', 'dweibull', 'erlang', 'expon', 'exponweib', 'exponpow', 'f', 'fatiguelife', 'fisk', 'foldcauchy', 'foldnorm', 'frechet_r', 'frechet_l', 'genlogistic', 'genpareto', 'genexpon', 'genextreme', 'gausshyper', 'gamma', 'gengamma', 'genhalflogistic', 'gilbrat', 'gompertz', 'gumbel_r', 'gumbel_l', 'halfcauchy', 'halflogistic', 'halfnorm', 'hypsecant', 'invgamma', 'invgauss', 'invweibull', 'johnsonsb', 'johnsonsu', 'ksone', 'kstwobign', 'laplace', 'logistic', 'loggamma', 'loglaplace', 'lognorm', 'lomax', 'maxwell', 'mielke', 'nakagami', 'ncx2', 'ncf', 'nct', 'norm', 'pareto', 'pearson3', 'powerlaw', 'powerlognorm', 'powernorm', 'rdist', 'reciprocal', 'rayleigh', 'rice', 'recipinvgauss', 'semicircular', 't', 'triang', 'truncexpon', 'truncnorm', 'tukeylambda', 'uniform', 'vonmises', 'wald', 'weibull_min', 'weibull_max', 'wrapcauchy']\n",
    "    #dist_names = ['invgauss', 'foldcauchy', 'lomax', 'halfcauchy', 'pareto', 'alpha', 'genexpon', 'expon', 'gompertz', 'halflogistic', 'genhalflogistic', 'halfnorm', 'foldnorm', 'gilbrat', 'uniform', 'ksone', 'truncnorm', 'wald', 'bradford', 'triang', 'truncexpon', 'semicircular', 'kstwobign', 'rice', 'rayleigh', 'frechet_l', 'wrapcauchy', 'gumbel_r', 'genlogistic', 'weibull_max', 'maxwell', 'anglit', 'norm', 'loggamma', 'logistic', 'hypsecant', 'cauchy', 'gumbel_l', 'powernorm', 'laplace', 'reciprocal', 'cosine']\n",
    "    dist_names = ['pareto','norm','alpha','logistic', 'hypsecant', 'cauchy', 'gumbel_l', 'powernorm', 'laplace', 'reciprocal']#'reciprocal'\n",
    "    #dist_names = ['gumbel_l','logistic','norm','alpha','cauchy', 'laplace']# \n",
    "    #dist_names = ['pareto','norm','genpareto', 'halfnorm', 'expon' ]\n",
    "    #dist_names = ['lognorm']\n",
    "    #dist_names = ['arcsine', 'truncexpon', 'semicircular', 'anglit', 'triang', 'genhalflogistic', 'lomax', 'expon', 'betaprime', 'exponpow', 'loglaplace', 'fisk', 'exponweib', 'invweibull', 'gumbel_r', 'genlogistic',  'genpareto',  'foldnorm', 'kstwobign','halfcauchy',  'rayleigh',  'rice', 'maxwell',  'cosine', 'mielke',  'genexpon',  'dgamma']\n",
    "    #dist_names = ['truncexpon', 'semicircular', 'anglit', 'triang', 'genhalflogistic', 'loglaplace', 'betaprime','fisk', 'exponweib', 'invweibull', 'gumbel_r', 'genlogistic',  'genpareto',  'foldnorm', 'kstwobign','halfcauchy',  'rayleigh',  'rice', 'maxwell',  'cosine', 'mielke',  'genexpon',  'dgamma']\n",
    "    \n",
    "    dic = {}\n",
    "    print('here111111')\n",
    "    for dist_name in dist_names:\n",
    "        dist = getattr(scipy.stats, dist_name)\n",
    "        param = dist.fit(y)\n",
    "        print('here2222222')\n",
    "        pdf_fitted = dist.pdf(bins, *param[:-2], loc=param[-2], scale=param[-1])       \n",
    "        NLL = -np.sum(np.log(pdf_fitted))\n",
    "        print (\"Dist: {0}, NLL: {1}\".format(dist_name, NLL))\n",
    "        dic[dist_name]=NLL\n",
    "        plt.plot(bins, pdf_fitted, label=dist_name+', NLL: '+str(NLL))\n",
    "    sorted_dic = sorted(dic.items(), key=operator.itemgetter(1))\n",
    "    print (sorted_dic)\n",
    "    #plt.xlim(xmin,xmax)\n",
    "    #plt.ylim(ymin,ymax)\n",
    "    plt.legend(loc='upper right')\n",
    "    plt.xlabel('Daily Stream Flow')\n",
    "    plt.ylabel('Number of Days')\n",
    "    plt.show()\n",
    "    return sorted_dic\n",
    "#plt.xticks(bins, [\"2^%s\" % i for i in bins])"
   ]
  },
  {
   "cell_type": "code",
   "execution_count": null,
   "metadata": {},
   "outputs": [],
   "source": [
    "#ymax,ymin = 450,0\n",
    "#xmax,xmin = 2.2,0\n",
    "#xmax,xmin = 2200,0\n",
    "#distribution_plot(y,omax,omin)\n",
    "data = Y #np.array(np.log(1+Y))#np.log(0.5+y)\n",
    "sorted_dic = distribution_plot(data)\n",
    "print ('min: '+str(np.min(data)))\n",
    "print ('max: '+str(np.max(data)))\n",
    "print ('mean: '+str(np.mean(data)))\n",
    "print ('median: '+str(np.median(data)))\n",
    "print ('standard deviation: '+str(np.std(data)))\n",
    "print ('75% percentile: '+str(np.percentile(data,75)))\n",
    "ratio = (np.max(data)-np.percentile(data,75))/(np.max(data) - np.min(data))\n",
    "print ('>75% percentile ratio= '+str(ratio))\n",
    "#data =np.log(1+y)/np.log(1.6) \n",
    "#distribution_plot(data,omax,omin)\n",
    "#data =np.log(1+y)/np.log(1.5) \n",
    "#distribution_plot(data,omax,omin)\n",
    "#data =np.log(1+y)/np.log(1.1) \n",
    "#distribution_plot(data,omax,omin)"
   ]
  }
 ],
 "metadata": {
  "kernelspec": {
   "display_name": "Python 2",
   "language": "python",
   "name": "python2"
  },
  "language_info": {
   "codemirror_mode": {
    "name": "ipython",
    "version": 2
   },
   "file_extension": ".py",
   "mimetype": "text/x-python",
   "name": "python",
   "nbconvert_exporter": "python",
   "pygments_lexer": "ipython2",
   "version": "2.7.12"
  }
 },
 "nbformat": 4,
 "nbformat_minor": 2
}
